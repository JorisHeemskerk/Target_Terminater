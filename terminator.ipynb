{
 "cells": [
  {
   "cell_type": "code",
   "execution_count": 1,
   "metadata": {},
   "outputs": [
    {
     "name": "stdout",
     "output_type": "stream",
     "text": [
      "pygame 2.5.2 (SDL 2.28.2, Python 3.11.9)\n",
      "Hello from the pygame community. https://www.pygame.org/contribute.html\n"
     ]
    }
   ],
   "source": [
    "from tqdm import tqdm\n",
    "import random\n",
    "from __init__ import make"
   ]
  },
  {
   "cell_type": "code",
   "execution_count": 2,
   "metadata": {},
   "outputs": [
    {
     "name": "stdout",
     "output_type": "stream",
     "text": [
      "{'sprite': {'side_view_dir': 'assets/i16_falangist.png', 'top_view_dir': 'assets/i16_falangist_top.png'}, 'properties': {'mass': 1200, 'engine_force': 300, 'agility': 100, 'drag_constant': 0.6, 'lift_constant': 100, 'critical_aoa_lower_bound': [-15.0, -0.95], 'critical_aoa_higher_bound': [19.0, 1.4], 'lift_coeficient_aoa_0': 0.32, 'drag_coeficient_aoa_0': 0.5}, 'starting_config': {'initial_throttle': 100, 'initial_pitch': 0, 'initial_velocity': [100.0, 0.0], 'initial_position': [0, 50], 'size': [24, 12]}}\n"
     ]
    }
   ],
   "source": [
    "env = make(render_mode=\"human\")\n",
    "# env = make()"
   ]
  },
  {
   "cell_type": "code",
   "execution_count": 3,
   "metadata": {},
   "outputs": [
    {
     "name": "stderr",
     "output_type": "stream",
     "text": [
      "100%|██████████| 1000/1000 [00:04<00:00, 239.32it/s, \u001b[0;35mState=\u001b[1;35m[-17.         259.         -77.65609957  92.96914778]\u001b[0;37m, \u001b[0;36mReward=\u001b[1;36m-1261.8914374858084\u001b[0;37m, \u001b[31mTerminated=False\u001b[0;37m, \u001b[31mTruncated=False\u001b[0;37m]           \n"
     ]
    },
    {
     "name": "stdout",
     "output_type": "stream",
     "text": [
      "{'sprite': {'side_view_dir': 'assets/i16_falangist.png', 'top_view_dir': 'assets/i16_falangist_top.png'}, 'properties': {'mass': 1200, 'engine_force': 300, 'agility': 100, 'drag_constant': 0.6, 'lift_constant': 100, 'critical_aoa_lower_bound': [-15.0, -0.95], 'critical_aoa_higher_bound': [19.0, 1.4], 'lift_coeficient_aoa_0': 0.32, 'drag_coeficient_aoa_0': 0.5}, 'starting_config': {'initial_throttle': 100, 'initial_pitch': 0, 'initial_velocity': [100.0, 0.0], 'initial_position': [0, 50], 'size': [24, 12]}}\n"
     ]
    }
   ],
   "source": [
    "pbar = tqdm(range(1000))\n",
    "for i in pbar:\n",
    "    state, reward, terminated, truncated, _ = env.step(random.choice([1]))\n",
    "    # tqdm debug\n",
    "    pbar.set_postfix({\n",
    "        \"\\033[0;35mState\" : f\"\\033[1;35m{state}\\033[0;37m\",\n",
    "        \"\\033[0;36mReward\" : f\"\\033[1;36m{reward}\\033[0;37m\", \n",
    "        f\"\\033[{'31' if not terminated else '32'}mTerminated\" : f\"{terminated}\\033[0;37m\",\n",
    "        f\"\\033[{'31' if not truncated else '32'}mTruncated\" : f\"{truncated}\\033[0;37m\",\n",
    "    })\n",
    "    if terminated or truncated:\n",
    "        env.reset()\n",
    "env.reset()"
   ]
  },
  {
   "cell_type": "code",
   "execution_count": 4,
   "metadata": {},
   "outputs": [],
   "source": [
    "env.close()"
   ]
  }
 ],
 "metadata": {
  "kernelspec": {
   "display_name": "ASster",
   "language": "python",
   "name": "python3"
  },
  "language_info": {
   "codemirror_mode": {
    "name": "ipython",
    "version": 3
   },
   "file_extension": ".py",
   "mimetype": "text/x-python",
   "name": "python",
   "nbconvert_exporter": "python",
   "pygments_lexer": "ipython3",
   "version": "3.11.9"
  }
 },
 "nbformat": 4,
 "nbformat_minor": 2
}
