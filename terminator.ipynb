{
 "cells": [
  {
   "cell_type": "code",
   "execution_count": 1,
   "metadata": {},
   "outputs": [
    {
     "name": "stdout",
     "output_type": "stream",
     "text": [
      "pygame 2.5.2 (SDL 2.28.2, Python 3.11.9)\n",
      "Hello from the pygame community. https://www.pygame.org/contribute.html\n"
     ]
    }
   ],
   "source": [
    "from tqdm import tqdm\n",
    "from make import make\n",
    "import random"
   ]
  },
  {
   "cell_type": "code",
   "execution_count": 2,
   "metadata": {},
   "outputs": [],
   "source": [
    "env = make(render_mode=\"human\")\n",
    "# env = make(render_mode=\"keyboard\")"
   ]
  },
  {
   "cell_type": "code",
   "execution_count": 3,
   "metadata": {},
   "outputs": [],
   "source": [
    "env.render()"
   ]
  },
  {
   "cell_type": "code",
   "execution_count": 4,
   "metadata": {},
   "outputs": [
    {
     "name": "stderr",
     "output_type": "stream",
     "text": [
      "100%|██████████| 1000/1000 [00:16<00:00, 61.55it/s, \u001b[0;35mState=\u001b[1;35m[  45.15995102   48.88736113 -117.79222213   32.32016435]\u001b[0;37m, \u001b[0;36mReward=\u001b[1;36m-1225.0049043688994\u001b[0;37m, \u001b[32mTerminated=False\u001b[0;37m, \u001b[32mTruncated=False\u001b[0;37m]       \n"
     ]
    }
   ],
   "source": [
    "pbar = tqdm(range(1000))\n",
    "for i in pbar:\n",
    "    state, reward, terminated, truncated = env.step(random.choice([1]))\n",
    "    # tqdm debug\n",
    "    pbar.set_postfix({\n",
    "        \"\\033[0;35mState\" : f\"\\033[1;35m{state}\\033[0;37m\",\n",
    "        \"\\033[0;36mReward\" : f\"\\033[1;36m{reward}\\033[0;37m\", \n",
    "        f\"\\033[{'31' if terminated else '32'}mTerminated\" : f\"{terminated}\\033[0;37m\",\n",
    "        f\"\\033[{'31' if truncated else '32'}mTruncated\" : f\"{truncated}\\033[0;37m\",\n",
    "    })\n",
    "env.close()"
   ]
  },
  {
   "cell_type": "code",
   "execution_count": 5,
   "metadata": {},
   "outputs": [],
   "source": [
    "env.close()"
   ]
  },
  {
   "cell_type": "code",
   "execution_count": 6,
   "metadata": {},
   "outputs": [],
   "source": [
    "# import numpy as np\n",
    "# import settings\n",
    "\n",
    "# n_agents = 1\n",
    "# i = 0\n",
    "\n",
    "# np.array(\n",
    "#     (\n",
    "#         settings.SCREEN_WIDTH - 1.0, # start x\n",
    "#         float(\n",
    "#             (settings.SCREEN_HEIGHT / n_agents / 2) +\n",
    "#             (settings.SCREEN_HEIGHT / n_agents * (i-1))\n",
    "#         )\n",
    "#     )\n",
    "# ) / settings.PLANE_POS_SCALE % settings.SCREEN_RESOLUTION"
   ]
  },
  {
   "cell_type": "code",
   "execution_count": 7,
   "metadata": {},
   "outputs": [],
   "source": [
    "# settings.SCREEN_WIDTH - 1.0"
   ]
  }
 ],
 "metadata": {
  "kernelspec": {
   "display_name": "ASster",
   "language": "python",
   "name": "python3"
  },
  "language_info": {
   "codemirror_mode": {
    "name": "ipython",
    "version": 3
   },
   "file_extension": ".py",
   "mimetype": "text/x-python",
   "name": "python",
   "nbconvert_exporter": "python",
   "pygments_lexer": "ipython3",
   "version": "3.11.9"
  }
 },
 "nbformat": 4,
 "nbformat_minor": 2
}
