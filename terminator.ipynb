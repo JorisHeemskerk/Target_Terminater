{
 "cells": [
  {
   "cell_type": "code",
   "execution_count": 1,
   "metadata": {},
   "outputs": [
    {
     "name": "stdout",
     "output_type": "stream",
     "text": [
      "pygame 2.6.0 (SDL 2.28.4, Python 3.11.9)\n",
      "Hello from the pygame community. https://www.pygame.org/contribute.html\n"
     ]
    }
   ],
   "source": [
    "from tqdm import tqdm\n",
    "from make import make\n",
    "import random"
   ]
  },
  {
   "cell_type": "code",
   "execution_count": 2,
   "metadata": {},
   "outputs": [],
   "source": [
    "env = make(render_mode=\"human\")\n",
    "# env = make(render_mode=\"keyboard\")"
   ]
  },
  {
   "cell_type": "code",
   "execution_count": 3,
   "metadata": {},
   "outputs": [
    {
     "name": "stderr",
     "output_type": "stream",
     "text": [
      "  0%|          | 0/1000 [00:00<?, ?it/s, \u001b[0;35mState=\u001b[1;35m[ 42.85554049 175.98682687  93.51854524 -36.24096393]\u001b[0;37m, \u001b[0;36mReward=\u001b[1;36m-1212.7637726596681\u001b[0;37m, \u001b[32mTerminated=False\u001b[0;37m, \u001b[32mTruncated=False\u001b[0;37m]"
     ]
    },
    {
     "name": "stderr",
     "output_type": "stream",
     "text": [
      "100%|██████████| 1000/1000 [00:06<00:00, 157.37it/s, \u001b[0;35mState=\u001b[1;35m[ 12.4545764   80.67204976 -77.65609957  92.96914778]\u001b[0;37m, \u001b[0;36mReward=\u001b[1;36m-1261.181362771219\u001b[0;37m, \u001b[32mTerminated=False\u001b[0;37m, \u001b[32mTruncated=False\u001b[0;37m]            \n"
     ]
    }
   ],
   "source": [
    "pbar = tqdm(range(1000))\n",
    "for i in pbar:\n",
    "    state, reward, terminated, truncated = env.step(random.choice([1]))\n",
    "    # tqdm debug\n",
    "    pbar.set_postfix({\n",
    "        \"\\033[0;35mState\" : f\"\\033[1;35m{state}\\033[0;37m\",\n",
    "        \"\\033[0;36mReward\" : f\"\\033[1;36m{reward}\\033[0;37m\", \n",
    "        f\"\\033[{'31' if terminated else '32'}mTerminated\" : f\"{terminated}\\033[0;37m\",\n",
    "        f\"\\033[{'31' if truncated else '32'}mTruncated\" : f\"{truncated}\\033[0;37m\",\n",
    "    })\n",
    "    if terminated or truncated:\n",
    "        env.reset()\n",
    "env.reset()"
   ]
  },
  {
   "cell_type": "code",
   "execution_count": 4,
   "metadata": {},
   "outputs": [],
   "source": [
    "env.close()"
   ]
  }
 ],
 "metadata": {
  "kernelspec": {
   "display_name": "ASster",
   "language": "python",
   "name": "python3"
  },
  "language_info": {
   "codemirror_mode": {
    "name": "ipython",
    "version": 3
   },
   "file_extension": ".py",
   "mimetype": "text/x-python",
   "name": "python",
   "nbconvert_exporter": "python",
   "pygments_lexer": "ipython3",
   "version": "3.11.9"
  }
 },
 "nbformat": 4,
 "nbformat_minor": 2
}
